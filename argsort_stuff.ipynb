{
  "nbformat": 4,
  "nbformat_minor": 0,
  "metadata": {
    "colab": {
      "provenance": [],
      "authorship_tag": "ABX9TyPTqyWdS/HhAMu3C6nb4XPM",
      "include_colab_link": true
    },
    "kernelspec": {
      "name": "python3",
      "display_name": "Python 3"
    },
    "language_info": {
      "name": "python"
    }
  },
  "cells": [
    {
      "cell_type": "markdown",
      "metadata": {
        "id": "view-in-github",
        "colab_type": "text"
      },
      "source": [
        "<a href=\"https://colab.research.google.com/github/gt-cse-6040/skills_oh_week_08/blob/main/argsort_stuff.ipynb\" target=\"_parent\"><img src=\"https://colab.research.google.com/assets/colab-badge.svg\" alt=\"Open In Colab\"/></a>"
      ]
    },
    {
      "cell_type": "code",
      "execution_count": 7,
      "metadata": {
        "id": "p6SltGg2rRuk"
      },
      "outputs": [],
      "source": [
        "import numpy as np\n",
        "import pandas as pd"
      ]
    },
    {
      "cell_type": "code",
      "source": [
        "my_arr = np.random.randint(200, size=30)"
      ],
      "metadata": {
        "id": "e2rh8PdxrUie"
      },
      "execution_count": 2,
      "outputs": []
    },
    {
      "cell_type": "code",
      "source": [
        "my_arr"
      ],
      "metadata": {
        "colab": {
          "base_uri": "https://localhost:8080/"
        },
        "id": "IcjA6B1wrfBL",
        "outputId": "5ec1c1fd-5a63-4406-dfc2-ca3addb89e13"
      },
      "execution_count": 3,
      "outputs": [
        {
          "output_type": "execute_result",
          "data": {
            "text/plain": [
              "array([196,  22, 195,  89, 142,  76,  94,  14,   2,  53,  86, 176,  55,\n",
              "       162, 129,  56, 186, 178, 113, 121,  27, 174,  61, 166,  11,  44,\n",
              "       152, 109,  52,  91])"
            ]
          },
          "metadata": {},
          "execution_count": 3
        }
      ]
    },
    {
      "cell_type": "code",
      "source": [
        "sorted_inds = np.argsort(my_arr)"
      ],
      "metadata": {
        "id": "unfVq-ZNrl9E"
      },
      "execution_count": 4,
      "outputs": []
    },
    {
      "cell_type": "code",
      "source": [
        "sorted_inds"
      ],
      "metadata": {
        "colab": {
          "base_uri": "https://localhost:8080/"
        },
        "id": "SRVdKGLSrq-e",
        "outputId": "382e6a99-69fd-4397-a9f0-1496222ef322"
      },
      "execution_count": 5,
      "outputs": [
        {
          "output_type": "execute_result",
          "data": {
            "text/plain": [
              "array([ 8, 24,  7,  1, 20, 25, 28,  9, 12, 15, 22,  5, 10,  3, 29,  6, 27,\n",
              "       18, 19, 14,  4, 26, 13, 23, 21, 11, 17, 16,  2,  0])"
            ]
          },
          "metadata": {},
          "execution_count": 5
        }
      ]
    },
    {
      "cell_type": "code",
      "source": [
        "my_arr[sorted_inds]"
      ],
      "metadata": {
        "colab": {
          "base_uri": "https://localhost:8080/"
        },
        "id": "ONFYxl8Wr1T7",
        "outputId": "0e33cad0-3c6d-4550-eabe-817c40320919"
      },
      "execution_count": 6,
      "outputs": [
        {
          "output_type": "execute_result",
          "data": {
            "text/plain": [
              "array([  2,  11,  14,  22,  27,  44,  52,  53,  55,  56,  61,  76,  86,\n",
              "        89,  91,  94, 109, 113, 121, 129, 142, 152, 162, 166, 174, 176,\n",
              "       178, 186, 195, 196])"
            ]
          },
          "metadata": {},
          "execution_count": 6
        }
      ]
    },
    {
      "cell_type": "code",
      "source": [
        "my_series = pd.Series(my_arr)\n",
        "# my_series"
      ],
      "metadata": {
        "id": "jB-1pQuIsToX"
      },
      "execution_count": 9,
      "outputs": []
    },
    {
      "cell_type": "code",
      "source": [
        "my_sorted_series = my_series.sort_values()"
      ],
      "metadata": {
        "id": "QZ80SNcHsgFD"
      },
      "execution_count": 10,
      "outputs": []
    },
    {
      "cell_type": "code",
      "source": [
        "my_arr[my_sorted_series.index]"
      ],
      "metadata": {
        "colab": {
          "base_uri": "https://localhost:8080/"
        },
        "id": "tseACpDdslsq",
        "outputId": "e0bb40a1-e6c1-428e-fd97-9344d12de418"
      },
      "execution_count": 13,
      "outputs": [
        {
          "output_type": "execute_result",
          "data": {
            "text/plain": [
              "array([  2,  11,  14,  22,  27,  44,  52,  53,  55,  56,  61,  76,  86,\n",
              "        89,  91,  94, 109, 113, 121, 129, 142, 152, 162, 166, 174, 176,\n",
              "       178, 186, 195, 196])"
            ]
          },
          "metadata": {},
          "execution_count": 13
        }
      ]
    }
  ]
}