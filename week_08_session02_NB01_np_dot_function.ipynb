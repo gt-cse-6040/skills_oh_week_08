{
  "cells": [
    {
      "cell_type": "markdown",
      "metadata": {
        "id": "view-in-github",
        "colab_type": "text"
      },
      "source": [
        "<a href=\"https://colab.research.google.com/github/gt-cse-6040/skills_oh_week_08/blob/main/week_08_session02_NB01_np_dot_function.ipynb\" target=\"_parent\"><img src=\"https://colab.research.google.com/assets/colab-badge.svg\" alt=\"Open In Colab\"/></a>"
      ]
    },
    {
      "cell_type": "markdown",
      "id": "94d48612",
      "metadata": {
        "id": "94d48612"
      },
      "source": [
        "_Main topics covered during today's session:_\n",
        "\n",
        "This NB:\n",
        "\n",
        "1. **Numpy dot function**\n",
        "    \n",
        "    \n",
        "Next NB:\n",
        "\n",
        "2. **TBD**"
      ]
    },
    {
      "cell_type": "markdown",
      "id": "4fcbf6dc",
      "metadata": {
        "id": "4fcbf6dc"
      },
      "source": [
        "# Numpy dot function\n"
      ]
    },
    {
      "cell_type": "markdown",
      "id": "5ded647b",
      "metadata": {
        "id": "5ded647b"
      },
      "source": [
        "https://numpy.org/doc/stable/reference/generated/numpy.dot.html\n"
      ]
    },
    {
      "cell_type": "code",
      "execution_count": null,
      "id": "1c9e9523",
      "metadata": {
        "id": "1c9e9523"
      },
      "outputs": [],
      "source": [
        "import numpy as np"
      ]
    },
    {
      "cell_type": "markdown",
      "id": "db6aafe1",
      "metadata": {
        "id": "db6aafe1"
      },
      "source": [
        "The syntax is:\n",
        "\n",
        "**numpy.dot (a, b, out=None)**\n",
        "\n",
        "In the parameters:\n",
        "\n",
        "1. a is the left array\n",
        "\n",
        "2. b is the right array\n",
        "\n",
        "3. ndarray, which is optional. This is mostly not used."
      ]
    },
    {
      "cell_type": "markdown",
      "id": "3ad88096",
      "metadata": {
        "id": "3ad88096"
      },
      "source": [
        "The function returns the dot product of two arrays. \n",
        "\n",
        "Specifically:\n",
        "\n",
        "1. If both a and b are 1-D arrays, it is inner product of vectors (without complex conjugation).\n",
        "\n",
        "\n",
        "2. If both a and b are 2-D arrays, it is matrix multiplication, but using matmul or a @ b is preferred.\n",
        "\n",
        "\n",
        "3. If either a or b is 0-D (scalar), it is equivalent to multiply and using numpy.multiply(a, b) or a * b is preferred.\n",
        "\n",
        "\n",
        "4. If a is an N-D array and b is a 1-D array, it is a sum product over the last axis of a and b.\n",
        "\n",
        "\n",
        "5. If a is an N-D array and b is an M-D array (where M>=2), it is a sum product over the last axis of a and the second-to-last axis of b:"
      ]
    },
    {
      "cell_type": "markdown",
      "id": "7e378c1a",
      "metadata": {
        "id": "7e378c1a"
      },
      "source": [
        "![Case_1.png](https://raw.githubusercontent.com/gt-cse-6040/skills_oh_week_08/main/Case_1.png)"
      ]
    },
    {
      "cell_type": "markdown",
      "id": "5a4cb578",
      "metadata": {
        "id": "5a4cb578"
      },
      "source": [
        "![case_1_summation.png](https://raw.githubusercontent.com/gt-cse-6040/skills_oh_week_08/main/case_1_summation.png)"
      ]
    },
    {
      "cell_type": "code",
      "execution_count": null,
      "id": "fc72d9a2",
      "metadata": {
        "id": "fc72d9a2"
      },
      "outputs": [],
      "source": [
        "a = np.array([3,4,5])\n",
        "b = np.array([7,8,9])\n",
        "\n",
        "display(a.shape)\n",
        "display(b.shape)\n",
        "\n",
        "np.dot(a,b)"
      ]
    },
    {
      "cell_type": "markdown",
      "id": "7e7bf2af",
      "metadata": {
        "id": "7e7bf2af"
      },
      "source": [
        "![case_2.png](https://raw.githubusercontent.com/gt-cse-6040/skills_oh_week_08/main/case_2.png)"
      ]
    },
    {
      "cell_type": "markdown",
      "id": "d5024800",
      "metadata": {
        "id": "d5024800"
      },
      "source": [
        "![case_2_summation.png](https://raw.githubusercontent.com/gt-cse-6040/skills_oh_week_08/main/case_2_summation.png)"
      ]
    },
    {
      "cell_type": "code",
      "execution_count": null,
      "id": "11b22aeb",
      "metadata": {
        "id": "11b22aeb"
      },
      "outputs": [],
      "source": [
        "a = np.array([[3,4,5],\n",
        "              [6,7,8]])\n",
        "b = np.array([[10,11],\n",
        "             [12,13],\n",
        "             [14,15]])\n",
        "\n",
        "display(a.shape)\n",
        "display(b.shape)\n",
        "\n",
        "np.dot(a,b)"
      ]
    },
    {
      "cell_type": "markdown",
      "id": "c5a0dbbc",
      "metadata": {
        "id": "c5a0dbbc"
      },
      "source": [
        "![case_3_4.png](https://raw.githubusercontent.com/gt-cse-6040/skills_oh_week_08/main/case_3_4.png)"
      ]
    },
    {
      "cell_type": "code",
      "execution_count": null,
      "id": "16d67b96",
      "metadata": {
        "id": "16d67b96"
      },
      "outputs": [],
      "source": [
        "# case 3\n",
        "a = 2\n",
        "b = np.array([5,6])\n",
        "\n",
        "display(b.shape)\n",
        "\n",
        "np.dot(a,b)"
      ]
    },
    {
      "cell_type": "code",
      "execution_count": null,
      "id": "12f2e49f",
      "metadata": {
        "id": "12f2e49f"
      },
      "outputs": [],
      "source": [
        "# case 4\n",
        "a = np.array([[1,2,3],[1,2,1]])\n",
        "b = [2,3,4]\n",
        "\n",
        "display(a.shape)\n",
        "# display(b.shape)  # error out, why?\n",
        "# display(len(b))\n",
        "\n",
        "np.dot(a,b)"
      ]
    },
    {
      "cell_type": "markdown",
      "id": "cbfd37fc",
      "metadata": {
        "id": "cbfd37fc"
      },
      "source": [
        "You will not be presented with exercises that use the Case 5 scenario, so we will not cover that here.\n",
        "\n",
        "Additionally, recall from our array shape notebook in the last session, we discussed that, in this class:\n",
        "\n",
        "#### We will not be working with vectors as 1-D arrays. You will see that,when we want to work with a vector, we will do so in the form of a 2-D matrix with the number of columns equal to one.\n",
        "\n",
        "**What that means, practically, is that you will need to understand how to operate with Cases 1, 2, and 3.** "
      ]
    },
    {
      "cell_type": "markdown",
      "id": "a443f629",
      "metadata": {
        "id": "a443f629"
      },
      "source": [
        "**`So why not just use loops?`**\n",
        "\n",
        "1. Loops are slow in real life, when you have millions of rows.\n",
        "\n",
        "2. Matrix multiplication can quickly change numbers using optimized math in the back end (and some of the fastest frameworks are built with C++ to speed them up even further).\n",
        "\n",
        "Here is what such a loop would look like:\n",
        "\n",
        "![def_dot.png](https://raw.githubusercontent.com/gt-cse-6040/skills_oh_week_08/main/def_dot.png)"
      ]
    },
    {
      "cell_type": "markdown",
      "id": "d77f2e37",
      "metadata": {
        "id": "d77f2e37"
      },
      "source": [
        "**`Why is dot product useful?`**\n",
        "\n",
        "What the dot product formula is really saying is that take two vector of equal length (each dimension is 1, n). We multiply each term in list A by the corresponding term in list B and then add all n terms together.\n",
        "\n",
        "Dot product is the basis of matrix multiplication and if you understand dot product well, it becomes easier to understand the intent behind the way two matrices are multiplied together\n",
        "\n",
        "Matrix multiplication is different from element-wise multiplication of values in two matrices."
      ]
    },
    {
      "cell_type": "markdown",
      "id": "aa8d2b1f",
      "metadata": {
        "id": "aa8d2b1f"
      },
      "source": [
        "![dot_useful.png](https://raw.githubusercontent.com/gt-cse-6040/skills_oh_week_08/main/dot_useful.png)"
      ]
    },
    {
      "cell_type": "markdown",
      "id": "5bb6eac5",
      "metadata": {
        "id": "5bb6eac5"
      },
      "source": [
        "**`Matrix Multiplication`**\n",
        "\n",
        "For matrix multiplication to work, the columns of the second matrix must have the same number of entries as do the rows of the first matrix."
      ]
    },
    {
      "cell_type": "markdown",
      "id": "1dcb3f8d",
      "metadata": {
        "id": "1dcb3f8d"
      },
      "source": [
        "![matrix_mult.png](https://raw.githubusercontent.com/gt-cse-6040/skills_oh_week_08/main/matrix_mult.png)"
      ]
    },
    {
      "cell_type": "markdown",
      "id": "ab9632fc",
      "metadata": {
        "id": "ab9632fc"
      },
      "source": [
        "**There are just 3 simple rules to help you remember how to do the calculations.**\n",
        "\n",
        "`1. Rows come first, so first matrix provides row numbers.`\n",
        "\n",
        "\n",
        "`2. Columns come second, so second matrix provide column numbers.`\n",
        "\n",
        "\n",
        "`3. The 'inner' values must be equal to each other.`\n",
        "\n",
        "\n",
        "`Matrix multiplication is just a way of organizing vectors we want to find the dot product of.`"
      ]
    },
    {
      "cell_type": "markdown",
      "id": "22b7db89",
      "metadata": {
        "id": "22b7db89"
      },
      "source": [
        "**`row x column vs. column x row`**"
      ]
    },
    {
      "cell_type": "markdown",
      "id": "34ddb884",
      "metadata": {
        "id": "34ddb884"
      },
      "source": [
        "![row_x_column.png](https://raw.githubusercontent.com/gt-cse-6040/skills_oh_week_08/main/row_x_column.png)"
      ]
    },
    {
      "cell_type": "markdown",
      "id": "a3dcaae3",
      "metadata": {
        "id": "a3dcaae3"
      },
      "source": [
        "In the picture above, the left matrix is [1,3], while the right matrix is [3,1]\n",
        "\n",
        "In the two rules, the left matrix provides the rows, so there will be 1 row in the result.\n",
        "\n",
        "The right matrix provides the columns, so there will be 1 column in the result.\n",
        "\n",
        "The inner values are both 3, so they equal each other."
      ]
    },
    {
      "cell_type": "code",
      "execution_count": null,
      "id": "a045f48e",
      "metadata": {
        "id": "a045f48e"
      },
      "outputs": [],
      "source": [
        "a = np.array([[3,4,5]])\n",
        "b = np.array([[7],\n",
        "              [8],\n",
        "              [9]])\n",
        "\n",
        "display(a.shape)\n",
        "display(b.shape)\n",
        "\n",
        "c = np.dot(a,b)\n",
        "display(c.shape)\n",
        "c"
      ]
    },
    {
      "cell_type": "markdown",
      "id": "f96cb47a",
      "metadata": {
        "id": "f96cb47a"
      },
      "source": [
        "![column_x_row.png](https://raw.githubusercontent.com/gt-cse-6040/skills_oh_week_08/main/column_x_row.png)"
      ]
    },
    {
      "cell_type": "markdown",
      "id": "98e39f5a",
      "metadata": {
        "id": "98e39f5a"
      },
      "source": [
        "In the picture above, the left matrix is [3,1], while the right matrix is [1,3]\n",
        "\n",
        "In the two rules, the left matrix provides the rows, so there will be 3 rows in the result.\n",
        "\n",
        "The right matrix provides the columns, so there will be 3 columns in the result.\n",
        "\n",
        "The inner values are both 1, so they equal each other."
      ]
    },
    {
      "cell_type": "code",
      "execution_count": null,
      "id": "2dba7b1b",
      "metadata": {
        "id": "2dba7b1b"
      },
      "outputs": [],
      "source": [
        "a = np.array([[2],\n",
        "              [3],\n",
        "              [4]])\n",
        "b = np.array([[6,4,3]])\n",
        "\n",
        "display(a.shape)\n",
        "display(b.shape)\n",
        "\n",
        "c = np.dot(a,b)\n",
        "display(c.shape)\n",
        "c"
      ]
    },
    {
      "cell_type": "markdown",
      "id": "2e72ce23",
      "metadata": {
        "id": "2e72ce23"
      },
      "source": [
        "**`Two ways of looking at a matrix multiplication`**"
      ]
    },
    {
      "cell_type": "markdown",
      "id": "42617aff",
      "metadata": {
        "id": "42617aff"
      },
      "source": [
        "![two_ways_1.png](https://raw.githubusercontent.com/gt-cse-6040/skills_oh_week_08/main/two_ways_1.png)"
      ]
    },
    {
      "cell_type": "markdown",
      "id": "58391943",
      "metadata": {
        "id": "58391943"
      },
      "source": [
        "![two_ways_2.png](https://raw.githubusercontent.com/gt-cse-6040/skills_oh_week_08/main/two_ways_2.png)"
      ]
    },
    {
      "cell_type": "markdown",
      "id": "8dc8336a",
      "metadata": {
        "id": "8dc8336a"
      },
      "source": [
        "**`So what do you do when the two array shapes do not correspond to the rules?`**\n",
        "\n",
        "Remember the transpose function, from our last session?\n",
        "\n",
        "#### Numpy’s transpose() function is used to reverse the dimensions of the given array. It changes the row elements to column elements and column to row elements."
      ]
    },
    {
      "cell_type": "code",
      "execution_count": null,
      "id": "21656ba1",
      "metadata": {
        "id": "21656ba1"
      },
      "outputs": [],
      "source": [
        "a = np.array([[2,3,4]])\n",
        "b = np.array([[6,4,3]])\n",
        "\n",
        "display(a.shape)\n",
        "display(b.shape)\n",
        "\n",
        "# c = np.dot(a,b)  # errors out"
      ]
    },
    {
      "cell_type": "code",
      "execution_count": null,
      "id": "b2628e51",
      "metadata": {
        "id": "b2628e51"
      },
      "outputs": [],
      "source": [
        "display(a.T.shape)\n",
        "display(b.shape)\n",
        "\n",
        "c = np.dot(a.T,b)  # errors out\n",
        "display(c.shape)\n",
        "c"
      ]
    },
    {
      "cell_type": "markdown",
      "id": "bc47cbf7",
      "metadata": {
        "id": "bc47cbf7"
      },
      "source": [
        "### What are your questions on the np.dot function?"
      ]
    }
  ],
  "metadata": {
    "kernelspec": {
      "display_name": "Python 3 (ipykernel)",
      "language": "python",
      "name": "python3"
    },
    "language_info": {
      "codemirror_mode": {
        "name": "ipython",
        "version": 3
      },
      "file_extension": ".py",
      "mimetype": "text/x-python",
      "name": "python",
      "nbconvert_exporter": "python",
      "pygments_lexer": "ipython3",
      "version": "3.9.13"
    },
    "colab": {
      "provenance": [],
      "include_colab_link": true
    }
  },
  "nbformat": 4,
  "nbformat_minor": 5
}